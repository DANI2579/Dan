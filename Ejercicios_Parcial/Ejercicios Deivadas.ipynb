{
 "cells": [
  {
   "cell_type": "code",
   "execution_count": 69,
   "metadata": {},
   "outputs": [],
   "source": [
    "import numpy as np\n",
    "import matplotlib.pyplot as plt"
   ]
  },
  {
   "cell_type": "code",
   "execution_count": 114,
   "metadata": {},
   "outputs": [
    {
     "data": {
      "text/plain": [
       "array([0.1       , 0.12040816, 0.14081633, 0.16122449, 0.18163265,\n",
       "       0.20204082, 0.22244898, 0.24285714, 0.26326531, 0.28367347,\n",
       "       0.30408163, 0.3244898 , 0.34489796, 0.36530612, 0.38571429,\n",
       "       0.40612245, 0.42653061, 0.44693878, 0.46734694, 0.4877551 ,\n",
       "       0.50816327, 0.52857143, 0.54897959, 0.56938776, 0.58979592,\n",
       "       0.61020408, 0.63061224, 0.65102041, 0.67142857, 0.69183673,\n",
       "       0.7122449 , 0.73265306, 0.75306122, 0.77346939, 0.79387755,\n",
       "       0.81428571, 0.83469388, 0.85510204, 0.8755102 , 0.89591837,\n",
       "       0.91632653, 0.93673469, 0.95714286, 0.97755102, 0.99795918,\n",
       "       1.01836735, 1.03877551, 1.05918367, 1.07959184, 1.1       ])"
      ]
     },
     "execution_count": 114,
     "metadata": {},
     "output_type": "execute_result"
    }
   ],
   "source": [
    "h=0.01\n",
    "N=50\n",
    "x=np.linspace(0.1,1.1,N)\n",
    "x"
   ]
  },
  {
   "cell_type": "code",
   "execution_count": 115,
   "metadata": {},
   "outputs": [],
   "source": [
    "def function(x):\n",
    "    return np.sqrt(np.tan(x))"
   ]
  },
  {
   "cell_type": "code",
   "execution_count": 116,
   "metadata": {},
   "outputs": [
    {
     "data": {
      "text/plain": [
       "array([0.31675649, 0.34784114, 0.37650303, 0.40328165, 0.42855192,\n",
       "       0.45258766, 0.47559676, 0.49774198, 0.5191541 , 0.53994052,\n",
       "       0.56019115, 0.57998252, 0.59938079, 0.61844395, 0.63722354,\n",
       "       0.65576589, 0.67411317, 0.69230419, 0.71037508, 0.72835981,\n",
       "       0.74629068, 0.76419868, 0.78211387, 0.80006569, 0.81808319,\n",
       "       0.83619536, 0.85443131, 0.87282058, 0.89139332, 0.91018057,\n",
       "       0.92921452, 0.94852873, 0.96815846, 0.98814097, 1.00851585,\n",
       "       1.0293254 , 1.05061507, 1.07243392, 1.09483521, 1.11787698,\n",
       "       1.14162286, 1.16614284, 1.19151436, 1.21782347, 1.24516626,\n",
       "       1.27365054, 1.30339795, 1.33454642, 1.36725324, 1.40169885])"
      ]
     },
     "execution_count": 116,
     "metadata": {},
     "output_type": "execute_result"
    }
   ],
   "source": [
    "function(x)"
   ]
  },
  {
   "cell_type": "code",
   "execution_count": 117,
   "metadata": {},
   "outputs": [],
   "source": [
    "def Derivada_progresiva(f,x,h):\n",
    "    if h!=0:\n",
    "        derivada=(1/(2*h))*((-3*f(x))+(4*f(x+h))-(f(x+2*h)))\n",
    "    return derivada"
   ]
  },
  {
   "cell_type": "code",
   "execution_count": 118,
   "metadata": {},
   "outputs": [],
   "source": [
    "P_derivate=Derivada_progresiva(function,x,h)"
   ]
  },
  {
   "cell_type": "code",
   "execution_count": 119,
   "metadata": {},
   "outputs": [],
   "source": [
    "def estimacion_central(f,x,h):\n",
    "    d = 0.\n",
    "    \n",
    "    if h != 0:\n",
    "        d = (f(x+h) - f(x-h))/(2*h)\n",
    "        \n",
    "    return d"
   ]
  },
  {
   "cell_type": "code",
   "execution_count": 120,
   "metadata": {},
   "outputs": [],
   "source": [
    "C_derivate=estimacion_central(function,x,h)"
   ]
  },
  {
   "cell_type": "code",
   "execution_count": 121,
   "metadata": {},
   "outputs": [],
   "source": [
    "def derivada_real(x):\n",
    "    return (1/(np.cos(x))**2)/(2*np.sqrt(np.tan(x)))"
   ]
  },
  {
   "cell_type": "code",
   "execution_count": 122,
   "metadata": {},
   "outputs": [],
   "source": [
    "R_derivate=derivada_real(x)"
   ]
  },
  {
   "cell_type": "code",
   "execution_count": 109,
   "metadata": {
    "scrolled": true
   },
   "outputs": [
    {
     "data": {
      "text/plain": [
       "<matplotlib.legend.Legend at 0x7fa9ac27d6d0>"
      ]
     },
     "execution_count": 109,
     "metadata": {},
     "output_type": "execute_result"
    },
    {
     "data": {
      "image/png": "[encoded data removed]",
      "text/plain": [
       "<Figure size 432x288 with 1 Axes>"
      ]
     },
     "metadata": {
      "needs_background": "light"
     },
     "output_type": "display_data"
    }
   ],
   "source": [
    "\n",
    "plt.scatter(x, P_derivate,label=\"Derivada Progresiva\")\n",
    "plt.scatter(x, C_derivate, label=\"Derivada Central\")\n",
    "plt.scatter(x, R_derivate, label=\"Derivada Analítica\")\n",
    "\n",
    "plt.legend()"
   ]
  },
  {
   "cell_type": "code",
   "execution_count": 106,
   "metadata": {},
   "outputs": [],
   "source": [
    "erro_C=np.abs(R_derivate-C_derivate)\n",
    "error_P=np.abs(R_derivate-P_derivate)"
   ]
  },
  {
   "cell_type": "code",
   "execution_count": 107,
   "metadata": {},
   "outputs": [
    {
     "data": {
      "text/plain": [
       "<matplotlib.legend.Legend at 0x7fa9ac095eb0>"
      ]
     },
     "execution_count": 107,
     "metadata": {},
     "output_type": "execute_result"
    },
    {
     "data": {
      "image/png": "[encoded data removed]",
      "text/plain": [
       "<Figure size 432x288 with 1 Axes>"
      ]
     },
     "metadata": {
      "needs_background": "light"
     },
     "output_type": "display_data"
    }
   ],
   "source": [
    "plt.scatter(x,error_P, label=\"Error nodal derivada progresiva\")\n",
    "plt.scatter(x, erro_C, label=\"Error nodal derivada central\")\n",
    "plt.legend()"
   ]
  },
  {
   "cell_type": "code",
   "execution_count": null,
   "metadata": {},
   "outputs": [],
   "source": []
  },
  {
   "cell_type": "code",
   "execution_count": null,
   "metadata": {},
   "outputs": [],
   "source": []
  }
 ],
 "metadata": {
  "kernelspec": {
   "display_name": "Python 3",
   "language": "python",
   "name": "python3"
  },
  "language_info": {
   "codemirror_mode": {
    "name": "ipython",
    "version": 3
   },
   "file_extension": ".py",
   "mimetype": "text/x-python",
   "name": "python",
   "nbconvert_exporter": "python",
   "pygments_lexer": "ipython3",
   "version": "3.8.3"
  }
 },
 "nbformat": 4,
 "nbformat_minor": 4
}
