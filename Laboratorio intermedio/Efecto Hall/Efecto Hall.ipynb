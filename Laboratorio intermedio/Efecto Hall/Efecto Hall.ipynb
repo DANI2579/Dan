{
 "cells": [
  {
   "cell_type": "code",
   "execution_count": null,
   "id": "c05d68c0-b23f-40fc-9e53-f2b489894ec3",
   "metadata": {},
   "outputs": [],
   "source": []
  }
 ],
 "metadata": {
  "kernelspec": {
   "display_name": "",
   "name": ""
  },
  "language_info": {
   "name": ""
  }
 },
 "nbformat": 4,
 "nbformat_minor": 5
}
