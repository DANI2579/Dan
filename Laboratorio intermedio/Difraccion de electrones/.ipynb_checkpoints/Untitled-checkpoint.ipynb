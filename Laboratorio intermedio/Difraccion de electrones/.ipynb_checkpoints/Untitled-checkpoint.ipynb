{
 "cells": [
  {
   "cell_type": "code",
   "execution_count": 132,
   "id": "2f6e5976-1691-4dcd-9877-a88607d9de38",
   "metadata": {},
   "outputs": [],
   "source": [
    "import numpy as np\n",
    "import pandas as pd\n",
    "import matplotlib.pyplot as plt\n",
    "import statsmodels.api as sm"
   ]
  },
  {
   "cell_type": "code",
   "execution_count": 122,
   "id": "a96bda83-6309-41a5-9390-d2ba8565fc97",
   "metadata": {},
   "outputs": [],
   "source": [
    "e = 1.602e-19 # C\n",
    "me = 9.109e-31 # Kg\n",
    "h = 6.626e-34 # Js\n",
    "L = 0.135 # m\n",
    "d1 = 213e-12 # m\n",
    "d2 = 123e-12 #m"
   ]
  },
  {
   "cell_type": "code",
   "execution_count": 157,
   "id": "7e7f7c6c-9f5a-4e2d-b075-9e53fdddbbcd",
   "metadata": {},
   "outputs": [
    {
     "data": {
      "text/html": [
       "<div>\n",
       "<style scoped>\n",
       "    .dataframe tbody tr th:only-of-type {\n",
       "        vertical-align: middle;\n",
       "    }\n",
       "\n",
       "    .dataframe tbody tr th {\n",
       "        vertical-align: top;\n",
       "    }\n",
       "\n",
       "    .dataframe thead th {\n",
       "        text-align: right;\n",
       "    }\n",
       "</style>\n",
       "<table border=\"1\" class=\"dataframe\">\n",
       "  <thead>\n",
       "    <tr style=\"text-align: right;\">\n",
       "      <th></th>\n",
       "      <th>U (KV)</th>\n",
       "      <th>D1(cm)</th>\n",
       "      <th>D2 (cm)</th>\n",
       "      <th>Incertdiumbre D1</th>\n",
       "      <th>Incertdiumbre D2</th>\n",
       "    </tr>\n",
       "  </thead>\n",
       "  <tbody>\n",
       "    <tr>\n",
       "      <th>0</th>\n",
       "      <td>2.6</td>\n",
       "      <td>1.51</td>\n",
       "      <td>2.66</td>\n",
       "      <td>0.18</td>\n",
       "      <td>0.26</td>\n",
       "    </tr>\n",
       "    <tr>\n",
       "      <th>1</th>\n",
       "      <td>2.8</td>\n",
       "      <td>1.42</td>\n",
       "      <td>2.60</td>\n",
       "      <td>0.20</td>\n",
       "      <td>0.32</td>\n",
       "    </tr>\n",
       "    <tr>\n",
       "      <th>2</th>\n",
       "      <td>3.0</td>\n",
       "      <td>1.37</td>\n",
       "      <td>2.51</td>\n",
       "      <td>0.23</td>\n",
       "      <td>0.33</td>\n",
       "    </tr>\n",
       "    <tr>\n",
       "      <th>3</th>\n",
       "      <td>3.2</td>\n",
       "      <td>1.33</td>\n",
       "      <td>2.37</td>\n",
       "      <td>0.17</td>\n",
       "      <td>0.16</td>\n",
       "    </tr>\n",
       "    <tr>\n",
       "      <th>4</th>\n",
       "      <td>3.4</td>\n",
       "      <td>1.30</td>\n",
       "      <td>2.35</td>\n",
       "      <td>0.22</td>\n",
       "      <td>0.24</td>\n",
       "    </tr>\n",
       "    <tr>\n",
       "      <th>5</th>\n",
       "      <td>3.6</td>\n",
       "      <td>1.25</td>\n",
       "      <td>2.30</td>\n",
       "      <td>0.20</td>\n",
       "      <td>0.24</td>\n",
       "    </tr>\n",
       "    <tr>\n",
       "      <th>6</th>\n",
       "      <td>3.8</td>\n",
       "      <td>1.22</td>\n",
       "      <td>2.27</td>\n",
       "      <td>0.18</td>\n",
       "      <td>0.24</td>\n",
       "    </tr>\n",
       "    <tr>\n",
       "      <th>7</th>\n",
       "      <td>4.0</td>\n",
       "      <td>1.18</td>\n",
       "      <td>2.16</td>\n",
       "      <td>0.19</td>\n",
       "      <td>0.19</td>\n",
       "    </tr>\n",
       "    <tr>\n",
       "      <th>8</th>\n",
       "      <td>4.2</td>\n",
       "      <td>1.17</td>\n",
       "      <td>2.12</td>\n",
       "      <td>0.18</td>\n",
       "      <td>0.18</td>\n",
       "    </tr>\n",
       "    <tr>\n",
       "      <th>9</th>\n",
       "      <td>4.4</td>\n",
       "      <td>1.12</td>\n",
       "      <td>2.11</td>\n",
       "      <td>0.21</td>\n",
       "      <td>0.21</td>\n",
       "    </tr>\n",
       "    <tr>\n",
       "      <th>10</th>\n",
       "      <td>4.6</td>\n",
       "      <td>1.05</td>\n",
       "      <td>2.09</td>\n",
       "      <td>0.17</td>\n",
       "      <td>0.23</td>\n",
       "    </tr>\n",
       "    <tr>\n",
       "      <th>11</th>\n",
       "      <td>4.8</td>\n",
       "      <td>1.03</td>\n",
       "      <td>2.08</td>\n",
       "      <td>0.22</td>\n",
       "      <td>0.22</td>\n",
       "    </tr>\n",
       "  </tbody>\n",
       "</table>\n",
       "</div>"
      ],
      "text/plain": [
       "    U (KV)  D1(cm)  D2 (cm)  Incertdiumbre D1  Incertdiumbre D2\n",
       "0      2.6    1.51     2.66              0.18              0.26\n",
       "1      2.8    1.42     2.60              0.20              0.32\n",
       "2      3.0    1.37     2.51              0.23              0.33\n",
       "3      3.2    1.33     2.37              0.17              0.16\n",
       "4      3.4    1.30     2.35              0.22              0.24\n",
       "5      3.6    1.25     2.30              0.20              0.24\n",
       "6      3.8    1.22     2.27              0.18              0.24\n",
       "7      4.0    1.18     2.16              0.19              0.19\n",
       "8      4.2    1.17     2.12              0.18              0.18\n",
       "9      4.4    1.12     2.11              0.21              0.21\n",
       "10     4.6    1.05     2.09              0.17              0.23\n",
       "11     4.8    1.03     2.08              0.22              0.22"
      ]
     },
     "execution_count": 157,
     "metadata": {},
     "output_type": "execute_result"
    }
   ],
   "source": [
    "#Carga de datos\n",
    "data = pd.read_excel(\"Datos- Difracción de electrones.xlsx\")\n",
    "data"
   ]
  },
  {
   "cell_type": "code",
   "execution_count": 126,
   "id": "a8dc442f-199a-482e-b714-ebb083ec936b",
   "metadata": {},
   "outputs": [],
   "source": [
    "voltage = data[\"U (KV)\"].astype(float).to_numpy() #[V] = kV\n",
    "D1 = data[\"D1(cm)\"].astype(float).to_numpy() #[D1] = cm\n",
    "D2 = data[\"D2 (cm)\"].astype(float).to_numpy() #[D2] = cm\n",
    "sigma_d1 = data[\"Incertdiumbre D1\"].astype(float).to_numpy()\n",
    "sigma_d2 = data[\"Incertdiumbre D2\"].astype(float).to_numpy()\n",
    "sigma_voltage = 0.1 #[V] = kV"
   ]
  },
  {
   "cell_type": "code",
   "execution_count": 127,
   "id": "bed6bd28-4728-46b2-9047-cc46b5c02919",
   "metadata": {},
   "outputs": [],
   "source": [
    "def wavelenght_DeBroglie(voltage, sigma):\n",
    "    \n",
    "    voltage1 = voltage * 1e3\n",
    "    sigma1 = sigma * 1e3\n",
    "    \n",
    "    wavelength = h/np.sqrt(2 * e * voltage1 * me)\n",
    "    wavelength *= 1e12\n",
    "\n",
    "    sigma_w =  wavelength * sigma1/(2 * voltage1)\n",
    "    \n",
    "    return wavelength, sigma_w"
   ]
  },
  {
   "cell_type": "code",
   "execution_count": 128,
   "id": "1739bf10-c7a9-46e1-99b5-1bcd0f8baad8",
   "metadata": {},
   "outputs": [],
   "source": [
    "def wavelength_Bragg(D, sigma, d):\n",
    "    D1 = D * 1e-2\n",
    "    sigma1 = sigma * 1e-2\n",
    "    arg = 1/2 * np.arctan(D1/(2*L))\n",
    "    wavelength = 2 * d * np.sin(arg)\n",
    "    \n",
    "    theta = 0.5 * np.arctan(D1 / (2 * L))\n",
    "    dfdD = (2 * d * np.cos(theta)) / (4 * L * (1 + (D1 / (2 * L))**2))\n",
    "    sigma_w = abs(dfdD) * sigma1\n",
    "    \n",
    "    wavelength *= 1e12\n",
    "    sigma_w *= 1e12\n",
    "    return wavelength, sigma_w"
   ]
  },
  {
   "cell_type": "code",
   "execution_count": 129,
   "id": "02b6c825-4b43-4b64-b5b8-00b650451eab",
   "metadata": {},
   "outputs": [],
   "source": [
    "wave_deBroglie, sigma_w_deBroglie = wavelenght_DeBroglie(voltage, sigma_voltage)\n",
    "wave_bragg1, sigma_w_bragg1 = wavelength_Bragg(D1, sigma_d1, d1)\n",
    "wave_bragg2, sigma_w_bragg2 = wavelength_Bragg(D2, sigma_d2, d2) "
   ]
  },
  {
   "cell_type": "markdown",
   "id": "d9754fc9-a297-47a3-9480-bba7ac7414b0",
   "metadata": {},
   "source": [
    "## Tabla"
   ]
  },
  {
   "cell_type": "code",
   "execution_count": 130,
   "id": "aa0c27fb-345e-4af6-a83b-dc854494320c",
   "metadata": {},
   "outputs": [],
   "source": [
    "## Tabla\n",
    "tabla = {\"Voltaje $\\pm$ 0.1 (KV)\":voltage, \"D1 (cm)\":[str(D1[i]) + \"$\\pm$\" + str(sigma_d1[i]) for i in range(0, len(D1))],\n",
    "         \"D2 (cm)\": [str(D2[i]) + \"$\\pm$\" + str(sigma_d2[i]) for i in range(0, len(D2))], \n",
    "         \"$\\lambda_{deBroglie}$ (pm)\": [f\"{wave_deBroglie[i]:.2f} $\\pm$ {sigma_w_deBroglie[i]:.2f}\" for i in range(0, len(wave_deBroglie))], \n",
    "         \"$\\lambda_{Bragg}^1$ (pm)\": [f\"{wave_bragg1[i]:.2f} $\\pm$  {sigma_w_bragg1[i]:.2f}\" for i in range(0, len(wave_bragg1))],\n",
    "         \"$\\lambda_{Bragg}^2$ (pm)\": [f\"{wave_bragg2[i]:.2f} $\\pm$ {sigma_w_bragg2[i]:.2f}\" for i in range(0, len(wave_bragg2))]}\n",
    "tabla = pd.DataFrame(tabla)\n",
    "tabla = tabla.to_latex()\n"
   ]
  },
  {
   "cell_type": "markdown",
   "id": "fd01e2af-0eb7-4b70-8894-82fde41cff4f",
   "metadata": {},
   "source": [
    "## Ajuste lineal"
   ]
  },
  {
   "cell_type": "code",
   "execution_count": 161,
   "id": "665e9e08-3102-4e82-a137-84ac81f402c5",
   "metadata": {},
   "outputs": [],
   "source": [
    "# D1\n",
    "x = 1/ (voltage * 1e3)**0.5\n",
    "y1 = D1\n",
    "weights = 1 / sigma_d1**2\n",
    "\n",
    "X = sm.add_constant(x)\n",
    "model = sm.WLS(y1, X, weights=weights)\n",
    "results = model.fit()\n",
    "sigma_m, sigma_b = results.bse\n",
    "m, b = results.params\n",
    "residuo1 = results.resid\n",
    "y_trend_1 = m * x + b"
   ]
  },
  {
   "cell_type": "code",
   "execution_count": 160,
   "id": "be7810d2-1f79-4463-9f7e-7e7ad7dbd9ce",
   "metadata": {},
   "outputs": [],
   "source": [
    "# D2\n",
    "y2 = D2\n",
    "weights = 1 / sigma_d2**2\n",
    "x = 1/ (voltage * 1e3)**0.5\n",
    "\n",
    "X = sm.add_constant(x)\n",
    "model = sm.WLS(y2, X, weights=weights)\n",
    "results = model.fit()\n",
    "sigma_m, sigma_b = results.bse\n",
    "m, b = results.params\n",
    "residuo2 = results.resid\n",
    "y_trend_2 = m * x + b"
   ]
  },
  {
   "cell_type": "code",
   "execution_count": 154,
   "id": "e0c31ef2-5b1e-4d02-9cf5-c6eb699b0bae",
   "metadata": {},
   "outputs": [
    {
     "data": {
      "image/png": "[encoded data removed]",
      "text/plain": [
       "<Figure size 600x700 with 2 Axes>"
      ]
     },
     "metadata": {},
     "output_type": "display_data"
    }
   ],
   "source": [
    "fig, axs = plt.subplots(2,1, sharex=False,figsize=(6,7), gridspec_kw={'height_ratios': [2, 1]})\n",
    "plt.subplots_adjust(hspace=0)\n",
    "\n",
    "axs[0].plot(x ,y_trend_1, label=\"D1\", ls=\"-\", c=\"r\")\n",
    "axs[0].plot(x ,y_trend_2, label=\"D2\", ls=\"-\", c=\"b\")\n",
    "axs[0].errorbar(x, y1, yerr = sigma_d1, xerr = [0.1]*len(x), fmt=\"o\", ecolor=\"r\", capsize=1,c=\"r\", markersize=5)\n",
    "axs[0].errorbar(x, y2, yerr = sigma_d2, xerr = [0.1]*len(x), fmt=\"o\", ecolor=\"b\", capsize=1,c=\"b\", markersize=5)\n",
    "axs[0].set_ylabel('D (cm)')\n",
    "axs[0].legend(loc=0)\n",
    "axs[0].grid(\"major\")\n",
    "#axs[0].text(1,-40,f'\n",
    "#={r2}',fontsize=13)\n",
    "#axs[0].text(-3,30,f'y=({m:.2f} x \n",
    " #{sigma_m:.2f})+({b:.2f} \n",
    " #{sigma_b:.2f})',fontsize=11)\n",
    "\n",
    "axs[0].legend()\n",
    "\n",
    "axs[1].axhline(y=0,color='k',linestyle='--')\n",
    "axs[1].plot(y1,residuo1, \".r\", label =\"Residuos regresión D1\")\n",
    "axs[1].plot(y2,residuo2, \".b\", label =\"Residuos regresión D2\")\n",
    "axs[1].grid(\"major\")\n",
    "axs[1].set_xlabel('$V^{-1/2}$ (V)')\n",
    "axs[1].legend()\n",
    "\n",
    "plt.savefig(\"Ajuste lineal.jpeg\")\n"
   ]
  },
  {
   "cell_type": "code",
   "execution_count": 163,
   "id": "67aae76d-45cf-4add-8b1d-523cc41b3581",
   "metadata": {},
   "outputs": [
    {
     "data": {
      "text/plain": [
       "[<matplotlib.lines.Line2D at 0x13c32c950>]"
      ]
     },
     "execution_count": 163,
     "metadata": {},
     "output_type": "execute_result"
    },
    {
     "data": {
      "image/png": "[encoded data removed]",
      "text/plain": [
       "<Figure size 640x480 with 1 Axes>"
      ]
     },
     "metadata": {},
     "output_type": "display_data"
    }
   ],
   "source": [
    "#plt.scatter(x, y1)\n",
    "plt.plot(x, y_trend_1)"
   ]
  },
  {
   "cell_type": "code",
   "execution_count": null,
   "id": "5621e4c2-dcc3-4ca7-85f1-eab47dcdf7ac",
   "metadata": {},
   "outputs": [],
   "source": []
  }
 ],
 "metadata": {
  "kernelspec": {
   "display_name": "Python 3 (ipykernel)",
   "language": "python",
   "name": "python3"
  },
  "language_info": {
   "codemirror_mode": {
    "name": "ipython",
    "version": 3
   },
   "file_extension": ".py",
   "mimetype": "text/x-python",
   "name": "python",
   "nbconvert_exporter": "python",
   "pygments_lexer": "ipython3",
   "version": "3.12.9"
  }
 },
 "nbformat": 4,
 "nbformat_minor": 5
}
