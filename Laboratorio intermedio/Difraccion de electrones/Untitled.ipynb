{
 "cells": [
  {
   "cell_type": "code",
   "execution_count": 312,
   "id": "2f6e5976-1691-4dcd-9877-a88607d9de38",
   "metadata": {},
   "outputs": [],
   "source": [
    "import numpy as np\n",
    "import pandas as pd\n",
    "import matplotlib.pyplot as plt\n",
    "import statsmodels.api as sm"
   ]
  },
  {
   "cell_type": "code",
   "execution_count": 313,
   "id": "a96bda83-6309-41a5-9390-d2ba8565fc97",
   "metadata": {},
   "outputs": [],
   "source": [
    "e = 1.602e-19 # C\n",
    "me = 9.109e-31 # Kg\n",
    "h = 6.626e-34 # Js\n",
    "L = 0.135 # m\n",
    "d1 = 213e-12 # m\n",
    "d2 = 123e-12 #m"
   ]
  },
  {
   "cell_type": "code",
   "execution_count": 314,
   "id": "7e7f7c6c-9f5a-4e2d-b075-9e53fdddbbcd",
   "metadata": {},
   "outputs": [
    {
     "data": {
      "text/html": [
       "<div>\n",
       "<style scoped>\n",
       "    .dataframe tbody tr th:only-of-type {\n",
       "        vertical-align: middle;\n",
       "    }\n",
       "\n",
       "    .dataframe tbody tr th {\n",
       "        vertical-align: top;\n",
       "    }\n",
       "\n",
       "    .dataframe thead th {\n",
       "        text-align: right;\n",
       "    }\n",
       "</style>\n",
       "<table border=\"1\" class=\"dataframe\">\n",
       "  <thead>\n",
       "    <tr style=\"text-align: right;\">\n",
       "      <th></th>\n",
       "      <th>U (KV)</th>\n",
       "      <th>D1(cm)</th>\n",
       "      <th>D2 (cm)</th>\n",
       "      <th>Incertdiumbre D1</th>\n",
       "      <th>Incertdiumbre D2</th>\n",
       "    </tr>\n",
       "  </thead>\n",
       "  <tbody>\n",
       "    <tr>\n",
       "      <th>0</th>\n",
       "      <td>2.6</td>\n",
       "      <td>1.51</td>\n",
       "      <td>2.66</td>\n",
       "      <td>0.18</td>\n",
       "      <td>0.26</td>\n",
       "    </tr>\n",
       "    <tr>\n",
       "      <th>1</th>\n",
       "      <td>2.8</td>\n",
       "      <td>1.42</td>\n",
       "      <td>2.60</td>\n",
       "      <td>0.20</td>\n",
       "      <td>0.32</td>\n",
       "    </tr>\n",
       "    <tr>\n",
       "      <th>2</th>\n",
       "      <td>3.0</td>\n",
       "      <td>1.37</td>\n",
       "      <td>2.51</td>\n",
       "      <td>0.23</td>\n",
       "      <td>0.33</td>\n",
       "    </tr>\n",
       "    <tr>\n",
       "      <th>3</th>\n",
       "      <td>3.2</td>\n",
       "      <td>1.33</td>\n",
       "      <td>2.37</td>\n",
       "      <td>0.17</td>\n",
       "      <td>0.16</td>\n",
       "    </tr>\n",
       "    <tr>\n",
       "      <th>4</th>\n",
       "      <td>3.4</td>\n",
       "      <td>1.30</td>\n",
       "      <td>2.35</td>\n",
       "      <td>0.22</td>\n",
       "      <td>0.24</td>\n",
       "    </tr>\n",
       "    <tr>\n",
       "      <th>5</th>\n",
       "      <td>3.6</td>\n",
       "      <td>1.25</td>\n",
       "      <td>2.30</td>\n",
       "      <td>0.20</td>\n",
       "      <td>0.24</td>\n",
       "    </tr>\n",
       "    <tr>\n",
       "      <th>6</th>\n",
       "      <td>3.8</td>\n",
       "      <td>1.22</td>\n",
       "      <td>2.27</td>\n",
       "      <td>0.18</td>\n",
       "      <td>0.24</td>\n",
       "    </tr>\n",
       "    <tr>\n",
       "      <th>7</th>\n",
       "      <td>4.0</td>\n",
       "      <td>1.18</td>\n",
       "      <td>2.16</td>\n",
       "      <td>0.19</td>\n",
       "      <td>0.19</td>\n",
       "    </tr>\n",
       "    <tr>\n",
       "      <th>8</th>\n",
       "      <td>4.2</td>\n",
       "      <td>1.17</td>\n",
       "      <td>2.12</td>\n",
       "      <td>0.18</td>\n",
       "      <td>0.18</td>\n",
       "    </tr>\n",
       "    <tr>\n",
       "      <th>9</th>\n",
       "      <td>4.4</td>\n",
       "      <td>1.12</td>\n",
       "      <td>2.11</td>\n",
       "      <td>0.21</td>\n",
       "      <td>0.21</td>\n",
       "    </tr>\n",
       "    <tr>\n",
       "      <th>10</th>\n",
       "      <td>4.6</td>\n",
       "      <td>1.05</td>\n",
       "      <td>2.09</td>\n",
       "      <td>0.17</td>\n",
       "      <td>0.23</td>\n",
       "    </tr>\n",
       "    <tr>\n",
       "      <th>11</th>\n",
       "      <td>4.8</td>\n",
       "      <td>1.03</td>\n",
       "      <td>2.08</td>\n",
       "      <td>0.22</td>\n",
       "      <td>0.22</td>\n",
       "    </tr>\n",
       "  </tbody>\n",
       "</table>\n",
       "</div>"
      ],
      "text/plain": [
       "    U (KV)  D1(cm)  D2 (cm)  Incertdiumbre D1  Incertdiumbre D2\n",
       "0      2.6    1.51     2.66              0.18              0.26\n",
       "1      2.8    1.42     2.60              0.20              0.32\n",
       "2      3.0    1.37     2.51              0.23              0.33\n",
       "3      3.2    1.33     2.37              0.17              0.16\n",
       "4      3.4    1.30     2.35              0.22              0.24\n",
       "5      3.6    1.25     2.30              0.20              0.24\n",
       "6      3.8    1.22     2.27              0.18              0.24\n",
       "7      4.0    1.18     2.16              0.19              0.19\n",
       "8      4.2    1.17     2.12              0.18              0.18\n",
       "9      4.4    1.12     2.11              0.21              0.21\n",
       "10     4.6    1.05     2.09              0.17              0.23\n",
       "11     4.8    1.03     2.08              0.22              0.22"
      ]
     },
     "execution_count": 314,
     "metadata": {},
     "output_type": "execute_result"
    }
   ],
   "source": [
    "#Carga de datos\n",
    "data = pd.read_excel(\"Datos- Difracción de electrones.xlsx\")\n",
    "data"
   ]
  },
  {
   "cell_type": "code",
   "execution_count": 315,
   "id": "a8dc442f-199a-482e-b714-ebb083ec936b",
   "metadata": {},
   "outputs": [],
   "source": [
    "voltage = data[\"U (KV)\"].astype(float).to_numpy() #[V] = kV\n",
    "D1 = data[\"D1(cm)\"].astype(float).to_numpy() #[D1] = cm\n",
    "D2 = data[\"D2 (cm)\"].astype(float).to_numpy() #[D2] = cm\n",
    "sigma_d1 = data[\"Incertdiumbre D1\"].astype(float).to_numpy()\n",
    "sigma_d2 = data[\"Incertdiumbre D2\"].astype(float).to_numpy()\n",
    "sigma_voltage = 0.1 #[V] = kV"
   ]
  },
  {
   "cell_type": "code",
   "execution_count": 316,
   "id": "bed6bd28-4728-46b2-9047-cc46b5c02919",
   "metadata": {},
   "outputs": [],
   "source": [
    "def wavelenght_DeBroglie(voltage, sigma):\n",
    "    \n",
    "    voltage1 = voltage * 1e3\n",
    "    sigma1 = sigma * 1e3\n",
    "    \n",
    "    wavelength = h/np.sqrt(2 * e * voltage1 * me)\n",
    "    wavelength *= 1e12\n",
    "\n",
    "    sigma_w =  wavelength * sigma1/(2 * voltage1)\n",
    "    \n",
    "    return wavelength, sigma_w"
   ]
  },
  {
   "cell_type": "code",
   "execution_count": 330,
   "id": "1739bf10-c7a9-46e1-99b5-1bcd0f8baad8",
   "metadata": {},
   "outputs": [],
   "source": [
    "def wavelength_Bragg(D, sigma, d):\n",
    "    D1 = D * 1e-2\n",
    "    sigma1 = sigma * 1e-2\n",
    "    arg = 1/2 * np.arctan(D1/(2*L))\n",
    "    wavelength = 2 * d * np.sin(arg)\n",
    "    \n",
    "    theta = 0.5 * np.arctan(D1 / (2 * L))\n",
    "    dfdD = (2 * d * np.cos(theta)) / (4 * L * (1 + (D1 / (2 * L))**2))\n",
    "    sigma_w = abs(dfdD) * sigma1\n",
    "    \n",
    "    wavelength *= 1e12\n",
    "    sigma_w *= 1e12\n",
    "    return wavelength, sigma_w"
   ]
  },
  {
   "cell_type": "code",
   "execution_count": 318,
   "id": "02b6c825-4b43-4b64-b5b8-00b650451eab",
   "metadata": {},
   "outputs": [],
   "source": [
    "wave_deBroglie, sigma_w_deBroglie = wavelenght_DeBroglie(voltage, sigma_voltage)\n",
    "wave_bragg1, sigma_w_bragg1 = wavelength_Bragg(D1, sigma_d1, d1)\n",
    "wave_bragg2, sigma_w_bragg2 = wavelength_Bragg(D2, sigma_d2, d2) "
   ]
  },
  {
   "cell_type": "markdown",
   "id": "d9754fc9-a297-47a3-9480-bba7ac7414b0",
   "metadata": {},
   "source": [
    "## Tabla"
   ]
  },
  {
   "cell_type": "code",
   "execution_count": 329,
   "id": "aa0c27fb-345e-4af6-a83b-dc854494320c",
   "metadata": {},
   "outputs": [
    {
     "name": "stdout",
     "output_type": "stream",
     "text": [
      "\\begin{tabular}{lllllll}\n",
      "\\toprule\n",
      " & Voltaje $\\pm$ 0.1 (KV) & D1 (cm) & D2 (cm) & $\\lambda_{deBroglie}$ (pm) & $\\lambda_{Bragg}^1$ (pm) & $\\lambda_{Bragg}^2$ (pm) \\\\\n",
      "\\midrule\n",
      "0 & 2.6 & 1.51$\\pm$0.18 & 2.66$\\pm$0.26 & 24.05 $\\pm$ 0.46 & 11.90 $\\pm$  1.42 & 12.07 $\\pm$ 1.17 \\\\\n",
      "1 & 2.8 & 1.42$\\pm$0.2 & 2.6$\\pm$0.32 & 23.18 $\\pm$ 0.41 & 11.19 $\\pm$  1.57 & 11.80 $\\pm$ 1.44 \\\\\n",
      "2 & 3.0 & 1.37$\\pm$0.23 & 2.51$\\pm$0.33 & 22.39 $\\pm$ 0.37 & 10.80 $\\pm$  1.81 & 11.40 $\\pm$ 1.49 \\\\\n",
      "3 & 3.2 & 1.33$\\pm$0.17 & 2.37$\\pm$0.16 & 21.68 $\\pm$ 0.34 & 10.48 $\\pm$  1.34 & 10.77 $\\pm$ 0.72 \\\\\n",
      "4 & 3.4 & 1.3$\\pm$0.22 & 2.35$\\pm$0.24 & 21.03 $\\pm$ 0.31 & 10.25 $\\pm$  1.73 & 10.68 $\\pm$ 1.08 \\\\\n",
      "5 & 3.6 & 1.25$\\pm$0.2 & 2.3$\\pm$0.24 & 20.44 $\\pm$ 0.28 & 9.85 $\\pm$  1.57 & 10.45 $\\pm$ 1.08 \\\\\n",
      "6 & 3.8 & 1.22$\\pm$0.18 & 2.27$\\pm$0.24 & 19.90 $\\pm$ 0.26 & 9.62 $\\pm$  1.42 & 10.31 $\\pm$ 1.08 \\\\\n",
      "7 & 4.0 & 1.18$\\pm$0.19 & 2.16$\\pm$0.19 & 19.39 $\\pm$ 0.24 & 9.30 $\\pm$  1.50 & 9.82 $\\pm$ 0.86 \\\\\n",
      "8 & 4.2 & 1.17$\\pm$0.18 & 2.12$\\pm$0.18 & 18.93 $\\pm$ 0.23 & 9.22 $\\pm$  1.42 & 9.64 $\\pm$ 0.81 \\\\\n",
      "9 & 4.4 & 1.12$\\pm$0.21 & 2.11$\\pm$0.21 & 18.49 $\\pm$ 0.21 & 8.83 $\\pm$  1.65 & 9.59 $\\pm$ 0.95 \\\\\n",
      "10 & 4.6 & 1.05$\\pm$0.17 & 2.09$\\pm$0.23 & 18.08 $\\pm$ 0.20 & 8.28 $\\pm$  1.34 & 9.50 $\\pm$ 1.04 \\\\\n",
      "11 & 4.8 & 1.03$\\pm$0.22 & 2.08$\\pm$0.22 & 17.70 $\\pm$ 0.18 & 8.12 $\\pm$  1.73 & 9.45 $\\pm$ 1.00 \\\\\n",
      "\\bottomrule\n",
      "\\end{tabular}\n",
      "\n"
     ]
    }
   ],
   "source": [
    "## Tabla\n",
    "tabla = {\"Voltaje $\\pm$ 0.1 (KV)\":[str(i) for i in voltage], \"D1 (cm)\":[str(D1[i]) + \"$\\pm$\" + str(sigma_d1[i]) for i in range(0, len(D1))],\n",
    "         \"D2 (cm)\": [str(D2[i]) + \"$\\pm$\" + str(sigma_d2[i]) for i in range(0, len(D2))], \n",
    "         \"$\\lambda_{deBroglie}$ (pm)\": [f\"{wave_deBroglie[i]:.2f} $\\pm$ {sigma_w_deBroglie[i]:.2f}\" for i in range(0, len(wave_deBroglie))], \n",
    "         \"$\\lambda_{Bragg}^1$ (pm)\": [f\"{wave_bragg1[i]:.2f} $\\pm$  {sigma_w_bragg1[i]:.2f}\" for i in range(0, len(wave_bragg1))],\n",
    "         \"$\\lambda_{Bragg}^2$ (pm)\": [f\"{wave_bragg2[i]:.2f} $\\pm$ {sigma_w_bragg2[i]:.2f}\" for i in range(0, len(wave_bragg2))]}\n",
    "tabla = pd.DataFrame(tabla)\n",
    "tabla = tabla.to_latex()\n",
    "print(tabla)"
   ]
  },
  {
   "cell_type": "markdown",
   "id": "fd01e2af-0eb7-4b70-8894-82fde41cff4f",
   "metadata": {},
   "source": [
    "## Ajuste lineal"
   ]
  },
  {
   "cell_type": "code",
   "execution_count": 323,
   "id": "665e9e08-3102-4e82-a137-84ac81f402c5",
   "metadata": {},
   "outputs": [],
   "source": [
    "# D1\n",
    "x = 1/ (voltage**1/2)\n",
    "\n",
    "y1 = D1\n",
    "weights = 1 / sigma_d1**2\n",
    "\n",
    "coefficients1,cov1=np.polyfit(x, y1,1,cov=True, w= weights)\n",
    "poly=np.poly1d(coefficients1)\n",
    "y_trend_1 = poly(x)\n",
    "residuals_1= (y1-poly(x)) "
   ]
  },
  {
   "cell_type": "code",
   "execution_count": 324,
   "id": "be7810d2-1f79-4463-9f7e-7e7ad7dbd9ce",
   "metadata": {},
   "outputs": [],
   "source": [
    "# D2\n",
    "y2 = D2\n",
    "weights = 1 / sigma_d2**2\n",
    "\n",
    "\n",
    "coefficients2,cov2=np.polyfit(x, y2, 1,cov=True, w= weights)\n",
    "poly=np.poly1d(coefficients2)\n",
    "y_trend_2 = poly(x)\n",
    "residuals_2=y2-poly(x) "
   ]
  },
  {
   "cell_type": "code",
   "execution_count": 325,
   "id": "e0c31ef2-5b1e-4d02-9cf5-c6eb699b0bae",
   "metadata": {},
   "outputs": [
    {
     "data": {
      "image/png": "[encoded data removed]",
      "text/plain": [
       "<Figure size 600x700 with 2 Axes>"
      ]
     },
     "metadata": {},
     "output_type": "display_data"
    }
   ],
   "source": [
    "fig, axs = plt.subplots(2,1, sharex=False,figsize=(6,7), gridspec_kw={'height_ratios': [2, 1]})\n",
    "plt.subplots_adjust(hspace=0)\n",
    "\n",
    "axs[0].plot(x ,y_trend_1, ls=\"-\", c=\"steelblue\")\n",
    "axs[0].plot(x ,y_trend_2, ls=\"-\", c=\"darkorange\")\n",
    "data_1= axs[0].errorbar(x, y1, yerr=sigma_d1, xerr=[0.1]*len(x) / (2 * voltage**(3/2)), fmt=\"o\", ecolor=\"steelblue\", elinewidth=1., capsize=3,    \n",
    "    capthick=0.7, markerfacecolor='white', markeredgecolor='steelblue', markersize=5, linestyle='None', label=\"D1\")\n",
    "axs[0].errorbar(x, y2, yerr=sigma_d2, xerr=[0.1]*len(x) / (2 * voltage**(3/2)), fmt=\"o\", ecolor=\"darkorange\", elinewidth=1., capsize=3,    \n",
    "    capthick=0.7, markerfacecolor='white', markeredgecolor='darkorange', markersize=5, linestyle='None', label=\"D2\")\n",
    "axs[0].set_ylabel('D (cm)')\n",
    "axs[0].legend(loc=0)\n",
    "axs[0].grid(\"major\")\n",
    "\n",
    "#axs[0].text(1,-40,f'\n",
    "#={r2}',fontsize=13)\n",
    "#axs[0].text(-3,30,f'y=({m:.2f} x \n",
    " #{sigma_m:.2f})+({b:.2f} \n",
    " #{sigma_b:.2f})',fontsize=11)\n",
    "\n",
    "axs[0].legend()\n",
    "\n",
    "axs[1].axhline(y=0,color='k',linestyle='--')\n",
    "axs[1].plot(x, residuals_1, linestyle='None', marker='o', markerfacecolor='none', markeredgecolor='steelblue', label='Residuos  D1')\n",
    "axs[1].plot(x, residuals_2, linestyle='None', marker='o', markerfacecolor='none', markeredgecolor='darkorange', label='Residuos D2')\n",
    "axs[1].grid(\"major\")\n",
    "axs[1].set_xlabel('$V^{-1/2} (kV)^{-1/2}$')\n",
    "axs[1].legend()\n",
    "\n",
    "plt.savefig(\"Ajuste lineal.jpeg\")\n"
   ]
  },
  {
   "cell_type": "markdown",
   "id": "fb893d69-6868-473a-b71f-1784c58a8694",
   "metadata": {},
   "source": [
    "## Pendiente"
   ]
  },
  {
   "cell_type": "code",
   "execution_count": 232,
   "id": "b9ed3cba-b8f8-4daf-8cc8-3b833f9ccf85",
   "metadata": {},
   "outputs": [
    {
     "name": "stdout",
     "output_type": "stream",
     "text": [
      "pendiente = (1.281$\\pm$0.004) $cm (kV)^1/2$ intercepto = (0.528 $\\pm$ 0.004) cm\n"
     ]
    }
   ],
   "source": [
    "# D1\n",
    "m1, b1 = coefficients1[0], b1 # [m1] = cm (kV)^1/2, [b1]= cm\n",
    "sigma_m1, sigma_b1 = cov1[0,0], cov1[1,1]\n",
    "print(f\"pendiente = ({m1:.3f}$\\pm${sigma_m1:.3f}) $cm (kV)^1/2$ intercepto = ({b1:.3f} $\\pm$ {sigma_m1:.3f}) cm\")"
   ]
  },
  {
   "cell_type": "code",
   "execution_count": 233,
   "id": "bf32cc80-68f9-4be0-be7b-b58c0cf4de45",
   "metadata": {},
   "outputs": [
    {
     "name": "stdout",
     "output_type": "stream",
     "text": [
      "pendiente = (1.665$\\pm$0.004) $cm (kV)^1/2$ intercepto = (1.349 $\\pm$ 0.003) cm\n"
     ]
    }
   ],
   "source": [
    "# D2\n",
    "m2, b2 = coefficients2[0], coefficients2[1]\n",
    "sigma_m2, sigma_b2 = cov2[0,0] * (1000**(1/2)) * 1e-2, cov2[1,1]\n",
    "print(f\"pendiente = ({m2:.3f}$\\pm${sigma_m1:.3f}) $cm (kV)^1/2$ intercepto = ({b2:.3f} $\\pm$ {sigma_m2:.3f}) cm\")"
   ]
  },
  {
   "cell_type": "markdown",
   "id": "1446f45f-856d-4d42-9a17-c1e9741951cd",
   "metadata": {},
   "source": [
    "### Calculo d"
   ]
  },
  {
   "cell_type": "code",
   "execution_count": 234,
   "id": "d387f181-a38a-4b4a-9c94-4a29246bc18a",
   "metadata": {},
   "outputs": [],
   "source": [
    "# [m] = m (V)^1/2\n",
    "m1 *= (1000**(1/2)) *1e-2\n",
    "sigma_m1 *= (1000**(1/2)) *1e-2\n",
    "m2 *= (1000**(1/2)) *1e-2\n",
    "sigma_m2 *= (1000**(1/2)) *1e-2"
   ]
  },
  {
   "cell_type": "code",
   "execution_count": 252,
   "id": "7fcbcda8-5058-4f4b-a0dd-56d1ed54ffe7",
   "metadata": {},
   "outputs": [
    {
     "name": "stdout",
     "output_type": "stream",
     "text": [
      "d1 = (408.9 $\\pm$ 3.6) pm\n"
     ]
    }
   ],
   "source": [
    "# d1\n",
    "sigma_m1, sigma_b1 = cov1[0,0], cov1[1,1]\n",
    "d1_experimental = L * h/(m1 * np.sqrt(2 * e* me))\n",
    "d1_experimental = d1_experimental * 1e12 #[d2] = pm\n",
    "sigma_d1 = d1_experimental * sigma_m1 / m1\n",
    "print(f\"d1 = ({d1_experimental:.1f} $\\pm$ {sigma_d1:.1f}) pm\")"
   ]
  },
  {
   "cell_type": "code",
   "execution_count": 253,
   "id": "273cfcdc-c64d-4de5-843e-20940bad95a2",
   "metadata": {},
   "outputs": [
    {
     "name": "stdout",
     "output_type": "stream",
     "text": [
      "d2 = (314.5 $\\pm$ 0.5) pm\n"
     ]
    }
   ],
   "source": [
    "# d2\n",
    "d2_experimental = L * h/( m2 * np.sqrt(2 * e* me))\n",
    "d2_experimental = d2_experimental * 1e12 #[d2] = pm\n",
    "sigma_d2 = d2_experimental * sigma_m2 / m2\n",
    "print(f\"d2 = ({d2_experimental:.1f} $\\pm$ {sigma_d2:.1f}) pm\")"
   ]
  },
  {
   "cell_type": "markdown",
   "id": "bde13033-42c7-4370-8a41-d45ed6ba0d04",
   "metadata": {},
   "source": [
    "### Cálculo h"
   ]
  },
  {
   "cell_type": "code",
   "execution_count": 216,
   "id": "ce16102c-335e-4a1d-89ad-04714aa3d6d4",
   "metadata": {},
   "outputs": [],
   "source": [
    "h_function = lambda m, d: (m * d *np.sqrt(2 * e * me)) / (2 * L)\n",
    "sigma_h_function = lambda m, h, sigma: h * sigma / m"
   ]
  },
  {
   "cell_type": "code",
   "execution_count": 248,
   "id": "76c4810b-b6d4-442d-82fe-bf7290cd2f6d",
   "metadata": {},
   "outputs": [
    {
     "name": "stdout",
     "output_type": "stream",
     "text": [
      "h = (1.7e-34 $\\pm$ 2e-36) J s\n"
     ]
    }
   ],
   "source": [
    "#d1\n",
    "h1_experimental = h_function(m1, d1)\n",
    "sigma_h1 = sigma_h_function(m1, h1_experimental, sigma_m1)\n",
    "print(f\"h = ({h1_experimental:.1e} $\\pm$ {sigma_h1:.0e}) J s\")"
   ]
  },
  {
   "cell_type": "code",
   "execution_count": 250,
   "id": "937cc705-4ed2-492c-8f38-55999a2914fe",
   "metadata": {},
   "outputs": [
    {
     "name": "stdout",
     "output_type": "stream",
     "text": [
      "h = (1.0e-34 $\\pm$ 2e-37) J s\n"
     ]
    }
   ],
   "source": [
    "#d2 \n",
    "h2_experimental = h_function(m1, d2)\n",
    "sigma_h2 = sigma_h_function(m2, h2_experimental, sigma_m2)\n",
    "print(f\"h = ({h2_experimental:.1e} $\\pm$ {sigma_h2:.0e}) J s\")"
   ]
  },
  {
   "cell_type": "markdown",
   "id": "a6d8d94a-3bfc-4e87-bc02-da42b7b8cba1",
   "metadata": {},
   "source": [
    "## Precisión y exactitud"
   ]
  },
  {
   "cell_type": "code",
   "execution_count": 267,
   "id": "74c8b3bd-aa76-426d-8365-4b398fc2704a",
   "metadata": {},
   "outputs": [],
   "source": [
    "def errores_precision(theoric, experimental, sigma):\n",
    "  prec= \"no es preciso\"\n",
    "  exa= \"no es exacto\"\n",
    "  abs_error = abs(theoric - experimental)\n",
    "  presicion = sigma / experimental\n",
    "  if  abs_error < 2.5 *sigma:\n",
    "    exa = \"es exacto\"\n",
    "  if presicion < 0.1:\n",
    "    prec = \"es preciso\"\n",
    "  return exa+ \", \" + prec "
   ]
  },
  {
   "cell_type": "code",
   "execution_count": 275,
   "id": "879cb4b9-8708-498e-86c2-9e1aac9f8c92",
   "metadata": {},
   "outputs": [
    {
     "data": {
      "text/plain": [
       "'no es exacto, es preciso'"
      ]
     },
     "execution_count": 275,
     "metadata": {},
     "output_type": "execute_result"
    }
   ],
   "source": [
    "# d1\n",
    "d1_theoric = 213.13 # pm\n",
    "errores_precision(d1_theoric, d1_experimental, sigma_d1)"
   ]
  },
  {
   "cell_type": "code",
   "execution_count": 276,
   "id": "ff90546e-d79a-489f-a82e-620540a9d35e",
   "metadata": {},
   "outputs": [
    {
     "data": {
      "text/plain": [
       "'no es exacto, es preciso'"
      ]
     },
     "execution_count": 276,
     "metadata": {},
     "output_type": "execute_result"
    }
   ],
   "source": [
    "# d2\n",
    "d2_theoric = 123.05 # pm\n",
    "errores_precision(d2_theoric, d2_experimental, sigma_d2)"
   ]
  },
  {
   "cell_type": "code",
   "execution_count": 277,
   "id": "363c30be-e3c5-4aa1-b371-1fc9b92c79df",
   "metadata": {},
   "outputs": [
    {
     "data": {
      "text/plain": [
       "'no es exacto, es preciso'"
      ]
     },
     "execution_count": 277,
     "metadata": {},
     "output_type": "execute_result"
    }
   ],
   "source": [
    "# h para d1\n",
    "errores_precision(h, h1_experimental, sigma_h1)"
   ]
  },
  {
   "cell_type": "code",
   "execution_count": 278,
   "id": "93ebb190-ca71-47ab-9906-94ce6a2da4a8",
   "metadata": {},
   "outputs": [
    {
     "data": {
      "text/plain": [
       "'no es exacto, es preciso'"
      ]
     },
     "execution_count": 278,
     "metadata": {},
     "output_type": "execute_result"
    }
   ],
   "source": [
    "# h para d1\n",
    "errores_precision(h, h2_experimental, sigma_h2)"
   ]
  }
 ],
 "metadata": {
  "kernelspec": {
   "display_name": "Python 3 (ipykernel)",
   "language": "python",
   "name": "python3"
  },
  "language_info": {
   "codemirror_mode": {
    "name": "ipython",
    "version": 3
   },
   "file_extension": ".py",
   "mimetype": "text/x-python",
   "name": "python",
   "nbconvert_exporter": "python",
   "pygments_lexer": "ipython3",
   "version": "3.12.9"
  }
 },
 "nbformat": 4,
 "nbformat_minor": 5
}
